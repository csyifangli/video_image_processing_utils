{
 "cells": [
  {
   "cell_type": "code",
   "execution_count": 36,
   "metadata": {},
   "outputs": [],
   "source": [
    "from PIL import Image\n",
    "import cv2\n",
    "import numpy as np\n",
    "import os\n",
    "from os.path import isfile, join"
   ]
  },
  {
   "cell_type": "code",
   "execution_count": 40,
   "metadata": {},
   "outputs": [],
   "source": [
    "filepath = 'C:\\\\Users\\\\jsharmon\\\\Documents\\\\Tulane\\\\bioxusn_lab\\\\Lab meetings\\\\2019\\\\August\\\\'\n",
    "im = Image.open(filepath+'time-course-1min_time-course-1min_RGB.tif')\n",
    "im.load()\n",
    "\n",
    "fps = 4\n",
    "size = im.size\n",
    "frame_array = []\n",
    "\n",
    "for i in range(0, im.n_frames):\n",
    "    im.seek(i)\n",
    "    openCvImFormat = np.array(im)\n",
    "    \n",
    "    # Convert from RGB to BGR for openCV\n",
    "    frame_array.append(openCvImFormat[:, :, ::-1].copy())\n",
    "    \n",
    "out = cv2.VideoWriter(filepath+'time-series.avi', cv2.VideoWriter_fourcc(*'DIVX'), fps, size)\n",
    "\n",
    "for i in range(len(frame_array)):\n",
    "    out.write(frame_array[i])\n",
    "    \n",
    "out.release()"
   ]
  }
 ],
 "metadata": {
  "kernelspec": {
   "display_name": "Python 3",
   "language": "python",
   "name": "python3"
  },
  "language_info": {
   "codemirror_mode": {
    "name": "ipython",
    "version": 3
   },
   "file_extension": ".py",
   "mimetype": "text/x-python",
   "name": "python",
   "nbconvert_exporter": "python",
   "pygments_lexer": "ipython3",
   "version": "3.6.5"
  }
 },
 "nbformat": 4,
 "nbformat_minor": 2
}
